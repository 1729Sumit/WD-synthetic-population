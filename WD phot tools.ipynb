{
 "cells": [
  {
   "cell_type": "code",
   "execution_count": 33,
   "id": "ab379c2f",
   "metadata": {},
   "outputs": [
    {
     "data": {
      "text/html": [
       "<div><i>Table length=238683</i>\n",
       "<table id=\"table139969851793568\" class=\"table-striped table-bordered table-condensed\">\n",
       "<thead><tr><th>wd</th><th>dr2name</th><th>source_id</th><th>source</th><th>ra</th><th>e_ra</th><th>dec</th><th>e_dec</th><th>plx</th><th>e_plx</th><th>pmra</th><th>e_pmra</th><th>pmdec</th><th>e_pmdec</th><th>epsi</th><th>amax</th><th>fg_gaia</th><th>e_fg_gaia</th><th>g_gaia_mag</th><th>fbp</th><th>e_fbp</th><th>bpmag</th><th>frp</th><th>e_frp</th><th>rpmag</th><th>e_br_rp</th><th>glon</th><th>glat</th><th>density</th><th>ag</th><th>sdss</th><th>umag</th><th>e_umag</th><th>gmag</th><th>e_gmag</th><th>rmag</th><th>e_rmag</th><th>imag</th><th>e_imag</th><th>zmag</th><th>e_zmag</th><th>pwd</th><th>f_pwd</th><th>teffh</th><th>e_teffh</th><th>loggh</th><th>e_loggh</th><th>massh</th><th>e_massh</th><th>chi2h</th><th>teffhe</th><th>e_teffhe</th><th>logghe</th><th>e_logghe</th><th>masshe</th><th>e_masshe</th><th>chisqhe</th></tr></thead>\n",
       "<thead><tr><th>bytes23</th><th>bytes28</th><th>int64</th><th>int32</th><th>float64</th><th>float64</th><th>float64</th><th>float64</th><th>float32</th><th>float32</th><th>float64</th><th>float64</th><th>float64</th><th>float64</th><th>float32</th><th>float32</th><th>float32</th><th>float32</th><th>float32</th><th>float32</th><th>float32</th><th>float32</th><th>float32</th><th>float32</th><th>float32</th><th>float32</th><th>float64</th><th>float64</th><th>float32</th><th>float32</th><th>bytes19</th><th>float32</th><th>float32</th><th>float32</th><th>float32</th><th>float32</th><th>float32</th><th>float32</th><th>float32</th><th>float32</th><th>float32</th><th>float32</th><th>int32</th><th>float32</th><th>float32</th><th>float32</th><th>float32</th><th>float32</th><th>float32</th><th>float32</th><th>float32</th><th>float32</th><th>float32</th><th>float32</th><th>float32</th><th>float32</th><th>float32</th></tr></thead>\n",
       "<tr><td>WDJ025854.43+003040.34</td><td>Gaia DR2 74698071455360</td><td>74698071455360</td><td>243328</td><td>44.72646901556998</td><td>0.28567386112959603</td><td>0.5112707464812695</td><td>0.25599366159026676</td><td>14.50074</td><td>0.3657973</td><td>-78.52656079709863</td><td>0.5427489490094788</td><td>15.012084874836075</td><td>0.5470492489368379</td><td>0.0</td><td>0.5372557</td><td>534.38245</td><td>1.808201</td><td>18.868734</td><td>312.15863</td><td>18.408854</td><td>19.11545</td><td>362.21515</td><td>11.172177</td><td>18.364504</td><td>1.2619685</td><td>176.11511398045826</td><td>-48.74189973283115</td><td>2772.1445</td><td>0.17931461</td><td>J025854.44+003040.3</td><td>19.962</td><td>0.033</td><td>19.174</td><td>0.01</td><td>18.833</td><td>0.01</td><td>18.694</td><td>0.013</td><td>18.661</td><td>0.04</td><td>0.988624</td><td>0</td><td>5912.965</td><td>303.26047</td><td>8.372084</td><td>0.167457</td><td>0.827522</td><td>0.111186</td><td>1.319487</td><td>5759.198</td><td>311.5228</td><td>8.282587</td><td>0.185514</td><td>0.752814</td><td>0.123687</td><td>1.221527</td></tr>\n",
       "<tr><td>WDJ030342.24+005310.43</td><td>Gaia DR2 152935195517952</td><td>152935195517952</td><td>41984</td><td>45.92584768471102</td><td>0.18368731112639675</td><td>0.8861145695998326</td><td>0.2010294471025037</td><td>4.671757</td><td>0.33319572</td><td>-30.908062217688194</td><td>0.3572135974662655</td><td>-26.73967510017829</td><td>0.34644328777017175</td><td>0.27127564</td><td>0.43184733</td><td>1177.987</td><td>2.9259744</td><td>18.010515</td><td>878.02954</td><td>9.245146</td><td>17.992615</td><td>489.7344</td><td>7.634973</td><td>18.037018</td><td>1.1611027</td><td>176.96708518810607</td><td>-47.62112094935022</td><td>2448.3142</td><td>0.18661743</td><td>J030342.22+005310.3</td><td>18.287</td><td>0.015</td><td>17.879</td><td>0.006</td><td>18.117</td><td>0.007</td><td>18.35</td><td>0.011</td><td>18.611</td><td>0.039</td><td>0.999324</td><td>0</td><td>13259.833</td><td>649.629</td><td>7.786484</td><td>0.154615</td><td>0.493008</td><td>0.069604</td><td>0.007033</td><td>12730.786</td><td>538.4719</td><td>7.745324</td><td>0.14715</td><td>0.473115</td><td>0.049265</td><td>10.165591</td></tr>\n",
       "<tr><td>WDJ030344.01+013535.16</td><td>Gaia DR2 262680200430208</td><td>262680200430208</td><td>606848</td><td>45.93331759541777</td><td>0.3138628128423388</td><td>1.5929702744130014</td><td>0.36468165336485614</td><td>6.495403</td><td>0.41979772</td><td>-13.854503800930587</td><td>0.6890392571390287</td><td>-30.273132105738306</td><td>0.7153254897822505</td><td>0.5518591</td><td>0.7335058</td><td>272.8221</td><td>1.1564398</td><td>19.598667</td><td>193.12788</td><td>10.673004</td><td>19.636776</td><td>152.07256</td><td>8.272819</td><td>19.306793</td><td>1.2652949</td><td>176.22628782356864</td><td>-47.12311117707965</td><td>3709.4175</td><td>0.19922957</td><td>J030344.00+013534.8</td><td>20.046</td><td>0.051</td><td>19.68</td><td>0.014</td><td>19.567</td><td>0.019</td><td>19.661</td><td>0.026</td><td>19.644</td><td>0.07</td><td>0.995937</td><td>0</td><td>8281.609</td><td>1067.137</td><td>8.477053</td><td>0.345407</td><td>0.901866</td><td>0.215614</td><td>2.114426</td><td>8171.034</td><td>1011.76447</td><td>8.435442</td><td>0.347081</td><td>0.859042</td><td>0.222191</td><td>1.957661</td></tr>\n",
       "<tr><td>WDJ025709.00+004627.95</td><td>Gaia DR2 288175125714560</td><td>288175125714560</td><td>22144</td><td>44.28743100663697</td><td>0.16060624493570758</td><td>0.7743488847665643</td><td>0.12051266411169455</td><td>6.4437113</td><td>0.1741326</td><td>-18.312461787365933</td><td>0.316156734859026</td><td>-18.769005044323325</td><td>0.22360292616773153</td><td>0.06492882</td><td>0.30022407</td><td>1887.3164</td><td>4.556691</td><td>17.498755</td><td>1414.818</td><td>15.860915</td><td>17.474636</td><td>787.3212</td><td>12.67905</td><td>17.52154</td><td>1.1668098</td><td>175.3618545492405</td><td>-48.867639255550394</td><td>2520.2168</td><td>0.16459899</td><td>J025708.99+004627.8</td><td>17.821</td><td>0.012</td><td>17.36</td><td>0.005</td><td>17.569</td><td>0.006</td><td>17.794</td><td>0.008</td><td>17.985</td><td>0.023</td><td>0.999549</td><td>0</td><td>13046.988</td><td>710.4043</td><td>7.924339</td><td>0.096566</td><td>0.565066</td><td>0.053551</td><td>0.001597</td><td>12499.292</td><td>537.5434</td><td>7.830668</td><td>0.09858</td><td>0.491814</td><td>0.040766</td><td>8.662606</td></tr>\n",
       "<tr><td>WDJ025740.28+005103.15</td><td>Gaia DR2 294840915182080</td><td>294840915182080</td><td>246272</td><td>44.41790800241273</td><td>0.6484183803129502</td><td>0.8508829517790394</td><td>0.6372487751682246</td><td>1.1403648</td><td>0.8189146</td><td>12.780960276768937</td><td>1.4102578832682688</td><td>1.801312799272769</td><td>1.3897260708886328</td><td>2.134629</td><td>1.3901014</td><td>188.7796</td><td>1.5638692</td><td>19.998478</td><td>148.36467</td><td>7.9372025</td><td>19.923061</td><td>91.365845</td><td>11.787677</td><td>19.85996</td><td>1.2698964</td><td>175.42016513237192</td><td>-48.721342485140326</td><td>3024.3882</td><td>0.17317156</td><td>J025740.28+005103.1</td><td>19.91</td><td>0.036</td><td>19.783</td><td>0.014</td><td>20.095</td><td>0.021</td><td>20.302</td><td>0.036</td><td>20.639</td><td>0.169</td><td>0.849513</td><td>0</td><td>0.0</td><td>0.0</td><td>0.0</td><td>0.0</td><td>0.0</td><td>0.0</td><td>0.0</td><td>0.0</td><td>0.0</td><td>0.0</td><td>0.0</td><td>0.0</td><td>0.0</td><td>0.0</td></tr>\n",
       "<tr><td>WDJ025746.40+010106.05</td><td>Gaia DR2 298895364329216</td><td>298895364329216</td><td>265984</td><td>44.44328675778547</td><td>0.13194586887523976</td><td>1.0183526673350898</td><td>0.12993160262299974</td><td>6.408874</td><td>0.16253102</td><td>-13.341707747920683</td><td>0.3035643637689151</td><td>0.9581542979260997</td><td>0.2742975029236648</td><td>0.41533226</td><td>0.26910767</td><td>1412.041</td><td>3.1735063</td><td>17.813747</td><td>1130.23</td><td>14.646915</td><td>17.718472</td><td>556.2131</td><td>7.8492675</td><td>17.898817</td><td>1.1943301</td><td>175.26858661458755</td><td>-48.58473008869972</td><td>2664.4773</td><td>0.2021467</td><td>J025746.39+010106.0</td><td>17.805</td><td>0.012</td><td>17.593</td><td>0.005</td><td>17.893</td><td>0.006</td><td>18.192</td><td>0.01</td><td>18.483</td><td>0.032</td><td>0.998969</td><td>0</td><td>17164.283</td><td>1122.1394</td><td>8.424463</td><td>0.099245</td><td>0.880765</td><td>0.063314</td><td>3.267255</td><td>16298.718</td><td>1297.8705</td><td>8.426643</td><td>0.14073</td><td>0.860987</td><td>0.091426</td><td>0.278549</td></tr>\n",
       "<tr><td>...</td><td>...</td><td>...</td><td>...</td><td>...</td><td>...</td><td>...</td><td>...</td><td>...</td><td>...</td><td>...</td><td>...</td><td>...</td><td>...</td><td>...</td><td>...</td><td>...</td><td>...</td><td>...</td><td>...</td><td>...</td><td>...</td><td>...</td><td>...</td><td>...</td><td>...</td><td>...</td><td>...</td><td>...</td><td>...</td><td>...</td><td>...</td><td>...</td><td>...</td><td>...</td><td>...</td><td>...</td><td>...</td><td>...</td><td>...</td><td>...</td><td>...</td><td>...</td><td>...</td><td>...</td><td>...</td><td>...</td><td>...</td><td>...</td><td>...</td><td>...</td><td>...</td><td>...</td><td>...</td><td>...</td><td>...</td><td>...</td></tr>\n",
       "<tr><td>WDJ205112.48-024324.55</td><td>Gaia DR2 6916704703158949632</td><td>6916704703158949632</td><td>1054464</td><td>312.8020246494006</td><td>0.1084708077625263</td><td>-2.7236374387644315</td><td>0.08205119064003968</td><td>5.4103665</td><td>0.13551505</td><td>7.63127151127326</td><td>0.228580459913439</td><td>-35.21660543403408</td><td>0.17412053320578272</td><td>0.0</td><td>0.22596769</td><td>1600.0825</td><td>1.7263157</td><td>17.678009</td><td>1319.7075</td><td>15.83838</td><td>17.550194</td><td>581.6718</td><td>7.5353703</td><td>17.850225</td><td>1.1883008</td><td>44.99966734536704</td><td>-27.73525750241483</td><td>17391.936</td><td>0.14640316</td><td></td><td>0.0</td><td>0.0</td><td>0.0</td><td>0.0</td><td>0.0</td><td>0.0</td><td>0.0</td><td>0.0</td><td>0.0</td><td>0.0</td><td>0.999289</td><td>0</td><td>21375.043</td><td>1422.7308</td><td>8.38187</td><td>0.101558</td><td>0.859259</td><td>0.064203</td><td>0.096838</td><td>22646.025</td><td>2282.0674</td><td>8.511507</td><td>0.097663</td><td>0.921005</td><td>0.061818</td><td>4.29757</td></tr>\n",
       "<tr><td>WDJ205155.76-015449.22</td><td>Gaia DR2 6916820495476689792</td><td>6916820495476689792</td><td>494464</td><td>312.9824646740663</td><td>0.23071348810211761</td><td>-1.9136724842109776</td><td>0.18907110349171355</td><td>2.228045</td><td>0.29249513</td><td>31.121537869647554</td><td>0.4587204913729362</td><td>0.23306026047687778</td><td>0.3947913664522007</td><td>0.0</td><td>0.49922162</td><td>511.31674</td><td>1.1712495</td><td>18.916641</td><td>443.77103</td><td>16.57665</td><td>18.73349</td><td>201.39034</td><td>6.0980015</td><td>19.001823</td><td>1.2617646</td><td>45.894995582966445</td><td>-27.492034699628253</td><td>18181.762</td><td>0.17454699</td><td></td><td>0.0</td><td>0.0</td><td>0.0</td><td>0.0</td><td>0.0</td><td>0.0</td><td>0.0</td><td>0.0</td><td>0.0</td><td>0.0</td><td>0.999074</td><td>0</td><td>18834.146</td><td>3384.4773</td><td>7.745279</td><td>0.373498</td><td>0.489026</td><td>0.161445</td><td>7.022495</td><td>18847.184</td><td>3842.6907</td><td>7.836528</td><td>0.402914</td><td>0.507867</td><td>0.184551</td><td>3.8842</td></tr>\n",
       "<tr><td>WDJ205314.09-013333.91</td><td>Gaia DR2 6916929484567006976</td><td>6916929484567006976</td><td>708352</td><td>313.30894541351904</td><td>0.4323203857641021</td><td>-1.55950019333355</td><td>0.38782873029508297</td><td>6.9501653</td><td>0.58704704</td><td>57.68007889096049</td><td>1.1379600012102007</td><td>-18.979229940114916</td><td>0.8394058571387846</td><td>0.4808257</td><td>1.1579671</td><td>243.29176</td><td>0.80348223</td><td>19.723047</td><td>162.09795</td><td>5.1718497</td><td>19.826944</td><td>134.24988</td><td>5.8002095</td><td>19.442135</td><td>1.2180759</td><td>46.424777743368026</td><td>-27.598260879474218</td><td>16890.455</td><td>0.2506505</td><td></td><td>0.0</td><td>0.0</td><td>0.0</td><td>0.0</td><td>0.0</td><td>0.0</td><td>0.0</td><td>0.0</td><td>0.0</td><td>0.0</td><td>0.995402</td><td>0</td><td>8054.729</td><td>682.7002</td><td>8.586326</td><td>0.264885</td><td>0.971923</td><td>0.16303</td><td>0.453106</td><td>7907.3257</td><td>629.29376</td><td>8.535818</td><td>0.267008</td><td>0.925157</td><td>0.170329</td><td>0.385926</td></tr>\n",
       "<tr><td>WDJ205523.70-013208.04</td><td>Gaia DR2 6916942197670351872</td><td>6916942197670351872</td><td>857088</td><td>313.84929322191095</td><td>0.19328436389402306</td><td>-1.5359317224207727</td><td>0.1386582314451075</td><td>17.755878</td><td>0.26375225</td><td>127.36950439611287</td><td>0.40266768895574306</td><td>-84.91677643327924</td><td>0.28652382117250313</td><td>0.20810594</td><td>0.39758277</td><td>703.56067</td><td>0.98425186</td><td>18.570112</td><td>327.34183</td><td>5.1810665</td><td>19.063885</td><td>554.80347</td><td>5.3842764</td><td>17.901571</td><td>1.2538297</td><td>46.75415943662092</td><td>-28.053745564372175</td><td>17790.799</td><td>0.25638282</td><td>J205523.77-013208.8</td><td>20.845</td><td>0.119</td><td>19.279</td><td>0.013</td><td>18.513</td><td>0.01</td><td>18.163</td><td>0.01</td><td>18.063</td><td>0.031</td><td>0.996976</td><td>0</td><td>4868.2656</td><td>68.10562</td><td>7.832526</td><td>0.068324</td><td>0.481797</td><td>0.031805</td><td>1.495899</td><td>4856.9614</td><td>56.90478</td><td>7.824711</td><td>0.054127</td><td>0.467482</td><td>0.019268</td><td>1.160845</td></tr>\n",
       "<tr><td>WDJ205920.27-020554.50</td><td>Gaia DR2 6916985834537772672</td><td>6916985834537772672</td><td>550528</td><td>314.8344497430734</td><td>0.579521993079312</td><td>-2.0984918380058084</td><td>0.37893194602008706</td><td>7.1154222</td><td>0.7101062</td><td>-2.6175259279531407</td><td>1.1123495080879577</td><td>-4.4571018045798585</td><td>1.1771125428107756</td><td>2.0140548</td><td>1.1903754</td><td>315.77722</td><td>2.1447098</td><td>19.439913</td><td>213.46515</td><td>10.926685</td><td>19.52807</td><td>266.05548</td><td>7.0587845</td><td>18.69949</td><td>1.5185409</td><td>46.76359231680923</td><td>-29.187745080483722</td><td>15483.073</td><td>0.1639137</td><td>J205920.27-020554.6</td><td>20.947</td><td>0.115</td><td>19.733</td><td>0.016</td><td>19.233</td><td>0.015</td><td>19.088</td><td>0.018</td><td>18.984</td><td>0.05</td><td>0.884973</td><td>0</td><td>0.0</td><td>0.0</td><td>0.0</td><td>0.0</td><td>0.0</td><td>0.0</td><td>0.0</td><td>0.0</td><td>0.0</td><td>0.0</td><td>0.0</td><td>0.0</td><td>0.0</td><td>0.0</td></tr>\n",
       "<tr><td>WDJ210111.00-015140.09</td><td>Gaia DR2 6917009272175089920</td><td>6917009272175089920</td><td>1333504</td><td>315.29589982720705</td><td>0.5243684541001837</td><td>-1.8611529557278812</td><td>0.4422863462341244</td><td>2.4979706</td><td>0.6224894</td><td>12.110753134868114</td><td>1.005004124393649</td><td>-3.9372866994759903</td><td>0.8104235711039879</td><td>0.0</td><td>0.938234</td><td>205.21765</td><td>1.2907435</td><td>19.90783</td><td>153.88358</td><td>9.764461</td><td>19.883408</td><td>89.19367</td><td>6.6690493</td><td>19.886086</td><td>1.1844851</td><td>47.26528541500726</td><td>-29.466489073961284</td><td>15229.476</td><td>0.17750555</td><td>J210111.01-015140.2</td><td>20.289</td><td>0.069</td><td>19.848</td><td>0.02</td><td>19.982</td><td>0.032</td><td>20.156</td><td>0.047</td><td>20.589</td><td>0.243</td><td>0.997319</td><td>0</td><td>12505.321</td><td>3354.3586</td><td>8.104671</td><td>0.602216</td><td>0.669611</td><td>0.324469</td><td>0.143837</td><td>12274.904</td><td>2630.755</td><td>8.021633</td><td>0.672929</td><td>0.597624</td><td>0.344973</td><td>0.020254</td></tr>\n",
       "<tr><td>WDJ210041.71-015602.65</td><td>Gaia DR2 6917018854246626688</td><td>6917018854246626688</td><td>832896</td><td>315.17380275527927</td><td>0.42062225381607576</td><td>-1.9341588983305609</td><td>0.3568455461226907</td><td>2.6584215</td><td>0.50551105</td><td>0.26653309836339645</td><td>0.7162093646913185</td><td>-21.00506865205433</td><td>0.6430107648772274</td><td>0.0</td><td>0.7292456</td><td>293.91232</td><td>1.3416185</td><td>19.51782</td><td>252.28636</td><td>9.177466</td><td>19.346653</td><td>125.06442</td><td>6.6458454</td><td>19.519085</td><td>1.283889</td><td>47.12216384712681</td><td>-29.398052075920006</td><td>15229.476</td><td>0.14636004</td><td>J210041.71-015602.8</td><td>19.682</td><td>0.044</td><td>19.334</td><td>0.014</td><td>19.603</td><td>0.024</td><td>19.718</td><td>0.036</td><td>19.889</td><td>0.141</td><td>0.999218</td><td>0</td><td>18969.098</td><td>4676.918</td><td>8.407617</td><td>0.510266</td><td>0.87243</td><td>0.300228</td><td>7.795243</td><td>16145.241</td><td>4647.973</td><td>8.287812</td><td>0.678086</td><td>0.769954</td><td>0.371033</td><td>4.619816</td></tr>\n",
       "</table></div>"
      ],
      "text/plain": [
       "<Table length=238683>\n",
       "          wd                     dr2name            ... e_masshe  chisqhe \n",
       "       bytes23                   bytes28            ... float32   float32 \n",
       "---------------------- ---------------------------- ... -------- ---------\n",
       "WDJ025854.43+003040.34      Gaia DR2 74698071455360 ... 0.123687  1.221527\n",
       "WDJ030342.24+005310.43     Gaia DR2 152935195517952 ... 0.049265 10.165591\n",
       "WDJ030344.01+013535.16     Gaia DR2 262680200430208 ... 0.222191  1.957661\n",
       "WDJ025709.00+004627.95     Gaia DR2 288175125714560 ... 0.040766  8.662606\n",
       "WDJ025740.28+005103.15     Gaia DR2 294840915182080 ...      0.0       0.0\n",
       "WDJ025746.40+010106.05     Gaia DR2 298895364329216 ... 0.091426  0.278549\n",
       "                   ...                          ... ...      ...       ...\n",
       "WDJ205112.48-024324.55 Gaia DR2 6916704703158949632 ... 0.061818   4.29757\n",
       "WDJ205155.76-015449.22 Gaia DR2 6916820495476689792 ... 0.184551    3.8842\n",
       "WDJ205314.09-013333.91 Gaia DR2 6916929484567006976 ... 0.170329  0.385926\n",
       "WDJ205523.70-013208.04 Gaia DR2 6916942197670351872 ... 0.019268  1.160845\n",
       "WDJ205920.27-020554.50 Gaia DR2 6916985834537772672 ...      0.0       0.0\n",
       "WDJ210111.00-015140.09 Gaia DR2 6917009272175089920 ... 0.344973  0.020254\n",
       "WDJ210041.71-015602.65 Gaia DR2 6917018854246626688 ... 0.371033  4.619816"
      ]
     },
     "execution_count": 33,
     "metadata": {},
     "output_type": "execute_result"
    }
   ],
   "source": [
    "import numpy as np\n",
    "from astropy.table import QTable, Table, Column\n",
    "t= Table.read(\"/home/sumit/Desktop/WD Project/mos_gaia_dr2_wd.fits\", format=\"fits\")\n",
    "t\n",
    "\n"
   ]
  },
  {
   "cell_type": "code",
   "execution_count": 34,
   "id": "114ff579",
   "metadata": {},
   "outputs": [
    {
     "name": "stdout",
     "output_type": "stream",
     "text": [
      "10213.207\n"
     ]
    }
   ],
   "source": [
    "logg= t[\"loggh\"]\n",
    "print(np.mean(t[\"teffh\"]))\n"
   ]
  },
  {
   "cell_type": "code",
   "execution_count": 56,
   "id": "6bdbcbcf",
   "metadata": {},
   "outputs": [
    {
     "name": "stdout",
     "output_type": "stream",
     "text": [
      "['constant', 'burst', 'decay', 'manual']\n"
     ]
    }
   ],
   "source": [
    "import WDPhotTools\n",
    "\n",
    "Attributes = dir(WDPhotTools.theoretical_lf.WDLF.set_sfr_model.__format__\n",
    "                )\n",
    "print(wdlf.sfr_mode_list)"
   ]
  },
  {
   "cell_type": "markdown",
   "id": "954fb70f",
   "metadata": {},
   "source": [
    "# Generating WDLF "
   ]
  },
  {
   "cell_type": "code",
   "execution_count": 2,
   "id": "236d2fc1",
   "metadata": {},
   "outputs": [
    {
     "name": "stderr",
     "output_type": "stream",
     "text": [
      "/home/sumit/.local/lib/python3.8/site-packages/scipy/optimize/_optimize.py:2132: RuntimeWarning: invalid value encountered in double_scalars\n",
      "  q = (xf - fulc) * (fx - fnfc)\n",
      "/home/sumit/.local/lib/python3.8/site-packages/scipy/optimize/_optimize.py:2133: RuntimeWarning: invalid value encountered in double_scalars\n",
      "  p = (xf - fulc) * q - (xf - nfc) * r\n",
      "/home/sumit/.local/lib/python3.8/site-packages/scipy/optimize/_optimize.py:2134: RuntimeWarning: invalid value encountered in double_scalars\n",
      "  q = 2.0 * (q - r)\n"
     ]
    }
   ],
   "source": [
    "import WDPhotTools\n",
    "import numpy as np\n",
    "from WDPhotTools import theoretical_lf\n",
    "\n",
    "Mag = np.arange(0.1, 20.0, 0.1)\n",
    "\n",
    "wdlf = theoretical_lf.WDLF()\n",
    "\n",
    "# Set the cooling models\n",
    "wdlf.set_low_mass_cooling_model('montreal_co_da_20')\n",
    "wdlf.set_intermediate_mass_cooling_model('montreal_co_da_20')\n",
    "wdlf.set_high_mass_cooling_model('montreal_co_da_20')\n",
    "\n",
    "# Construct the interpolator\n",
    "wdlf.compute_cooling_age_interpolator()\n",
    "\n",
    "# Set the initial mass function to Kroupa 2001\n",
    "wdlf.set_imf_model(\"C03b\")\n",
    "\n",
    "# Use the PARSEC stellar evolution model with a metallicity of z=0.014\n",
    "wdlf.set_ms_model('PARSECz0017')\n",
    "\n",
    "# Use the Catalan et al. 2008 IFMR\n",
    "wdlf.set_ifmr_model(\"S09\")\n",
    "\n",
    "# Constant SFR since 10 Gyr ago\n",
    "wdlf.set_sfr_model(mode=\"constant\", age=1e10)\n",
    "\n",
    "# Compute the WDLF\n",
    "mag, constant_density = wdlf.compute_density(mag=Mag)\n",
    "\n",
    "#wdlf.plot_wdlf(\n",
    "    #display=True,\n",
    "    #folder=\".\",\n",
    "    #ext=[\"png\", \"pdf\"],\n",
    "    #savefig=False,\n",
    "#)\n"
   ]
  },
  {
   "cell_type": "code",
   "execution_count": 3,
   "id": "307256ff",
   "metadata": {},
   "outputs": [
    {
     "name": "stdout",
     "output_type": "stream",
     "text": [
      "[ 0.1  0.2  0.3  0.4  0.5  0.6  0.7  0.8  0.9  1.   1.1  1.2  1.3  1.4\n",
      "  1.5  1.6  1.7  1.8  1.9  2.   2.1  2.2  2.3  2.4  2.5  2.6  2.7  2.8\n",
      "  2.9  3.   3.1  3.2  3.3  3.4  3.5  3.6  3.7  3.8  3.9  4.   4.1  4.2\n",
      "  4.3  4.4  4.5  4.6  4.7  4.8  4.9  5.   5.1  5.2  5.3  5.4  5.5  5.6\n",
      "  5.7  5.8  5.9  6.   6.1  6.2  6.3  6.4  6.5  6.6  6.7  6.8  6.9  7.\n",
      "  7.1  7.2  7.3  7.4  7.5  7.6  7.7  7.8  7.9  8.   8.1  8.2  8.3  8.4\n",
      "  8.5  8.6  8.7  8.8  8.9  9.   9.1  9.2  9.3  9.4  9.5  9.6  9.7  9.8\n",
      "  9.9 10.  10.1 10.2 10.3 10.4 10.5 10.6 10.7 10.8 10.9 11.  11.1 11.2\n",
      " 11.3 11.4 11.5 11.6 11.7 11.8 11.9 12.  12.1 12.2 12.3 12.4 12.5 12.6\n",
      " 12.7 12.8 12.9 13.  13.1 13.2 13.3 13.4 13.5 13.6 13.7 13.8 13.9 14.\n",
      " 14.1 14.2 14.3 14.4 14.5 14.6 14.7 14.8 14.9 15.  15.1 15.2 15.3 15.4\n",
      " 15.5 15.6 15.7 15.8 15.9 16.  16.1 16.2 16.3 16.4 16.5 16.6 16.7 16.8\n",
      " 16.9 17.  17.1 17.2 17.3 17.4 17.5 17.6 17.7 17.8 17.9 18.  18.1 18.2\n",
      " 18.3 18.4 18.5 18.6 18.7 18.8 18.9 19.  19.1 19.2 19.3 19.4 19.5 19.6\n",
      " 19.7 19.8 19.9]\n",
      "199\n",
      "[-8.88877662 -8.30346558 -7.87433113 -7.57354815 -7.27103821 -7.04665958\n",
      " -6.82521303 -6.60755059 -6.45090091 -6.28758317 -6.11072779 -5.91357219\n",
      " -5.79837903 -5.76336357 -5.72867271 -5.69643121 -5.66483126 -5.63386777\n",
      " -5.60487209 -5.5767406  -5.54677654 -5.52220293 -5.4950791  -5.47006651\n",
      " -5.44426709 -5.41806553 -5.39674779 -5.37442886 -5.3527168  -5.32893971\n",
      " -5.30919259 -5.2904244  -5.26923878 -5.24641217 -5.22365853 -5.20324102\n",
      " -5.18355883 -5.1654221  -5.14419637 -5.12359859 -5.10399765 -5.08344443\n",
      " -5.06052294 -5.0394115  -5.01824354 -4.99457662 -4.97099014 -4.94846446\n",
      " -4.92438193 -4.89804292 -4.87135083 -4.8435459  -4.81652064 -4.79116908\n",
      " -4.7653092  -4.73724681 -4.70843483 -4.67887337 -4.64737392 -4.61564584\n",
      " -4.58327035 -4.54802385 -4.51196434 -4.4783009  -4.43973369 -4.40018247\n",
      " -4.36172488 -4.32279119 -4.27704944 -4.23309462 -4.18866599 -4.13904023\n",
      " -4.09035455 -4.03603377 -3.98042835 -3.92251158 -3.86543823 -3.80326716\n",
      " -3.74214007 -3.67915491 -3.61865976 -3.56152527 -3.50669017 -3.45472247\n",
      " -3.40588151 -3.36054933 -3.31875024 -3.28008909 -3.24449627 -3.21127132\n",
      " -3.18039824 -3.15119577 -3.12369309 -3.09748155 -3.07208469 -3.04700677\n",
      " -3.02179842 -2.99593166 -2.9705628  -2.94531954 -2.92117593 -2.89803124\n",
      " -2.87532522 -2.85221113 -2.82857466 -2.80491379 -2.7813689  -2.75833068\n",
      " -2.73570556 -2.71201357 -2.68750466 -2.66267597 -2.63740338 -2.61169041\n",
      " -2.58570762 -2.55955205 -2.53298857 -2.50564895 -2.47793424 -2.45000473\n",
      " -2.42075167 -2.39153259 -2.3618722  -2.33098076 -2.30003778 -2.26853299\n",
      " -2.23586928 -2.20217162 -2.16858215 -2.13435383 -2.09837805 -2.0645803\n",
      " -2.03052174 -1.9941632  -1.95643673 -1.91677726 -1.87743131 -1.83778198\n",
      " -1.80182782 -1.75671366 -1.71054059 -1.66513105 -1.56526363 -1.4426021\n",
      " -1.28922995 -1.14116554 -1.0743763  -1.04562867 -1.06984421 -1.13536652\n",
      " -1.21884284 -1.30750684 -1.44183962 -1.57850621 -1.89303192 -2.16209079\n",
      " -2.3655322  -2.53183202 -2.70706136 -2.86965317 -3.01190046 -3.14204401\n",
      " -3.2607922  -3.36965534 -3.45914902 -3.55111682 -3.63691918 -3.697883\n",
      " -3.72433445 -3.79060769 -3.88868526 -3.92283036 -3.97879638 -4.07508241\n",
      " -4.05984304 -4.11884234 -4.16600675 -4.17263129 -4.13323157 -4.1663833\n",
      " -4.24749967 -4.28565241 -4.342136   -4.44095269 -4.52320027 -4.58825716\n",
      " -4.65380663 -4.71713422 -4.76276435 -4.81879913 -4.87593131 -4.93561717\n",
      " -4.98025673 -5.01903042 -5.05236839 -5.08893552 -5.12699053 -5.16066084\n",
      " -5.20089118]\n"
     ]
    }
   ],
   "source": [
    "import matplotlib.pyplot as plt\n",
    "import numpy as np\n",
    "print(mag)\n",
    "print(len(constant_density))\n",
    "print(np.log10(constant_density))\n"
   ]
  },
  {
   "cell_type": "code",
   "execution_count": 4,
   "id": "f95213ba",
   "metadata": {
    "scrolled": true
   },
   "outputs": [
    {
     "data": {
      "image/png": "[encoded data removed]",
      "text/plain": [
       "<Figure size 432x288 with 1 Axes>"
      ]
     },
     "metadata": {
      "needs_background": "light"
     },
     "output_type": "display_data"
    }
   ],
   "source": [
    "import matplotlib.pyplot as plt\n",
    "\n",
    "plt.plot(mag,np.log10(constant_density))\n",
    "plt.title(\"WDLF 10 Gyr\")\n",
    "plt.ylabel(\"log(N)\")\n",
    "#plt.xlabel(\"Mbol/mag\")\n",
    "plt.show()"
   ]
  },
  {
   "cell_type": "markdown",
   "id": "77028698",
   "metadata": {},
   "source": [
    "# Luminosity to Teff."
   ]
  },
  {
   "cell_type": "code",
   "execution_count": 19,
   "id": "f753f4b5",
   "metadata": {},
   "outputs": [
    {
     "name": "stdout",
     "output_type": "stream",
     "text": [
      "[136596.34069258 133669.80219777 130815.40284821 128025.53361912\n",
      " 125295.22893561 122621.15459441 120000.         117429.1008577\n",
      " 114908.72478006 112439.95903236 110023.89087991 107661.04496947\n",
      " 105349.76370137 103087.86251609 100873.15685699  98703.50346696\n",
      "  96577.50927372  94494.42632334  92453.52716265  90454.08433846\n",
      "  88495.50689449  86578.15683354  84702.79224722  82869.32174576\n",
      "  81075.63669808  79319.35226541  77598.71043645  75912.78121557\n",
      "  74260.71838534  72642.28478568  71057.83026972  69507.71828194\n",
      "  67991.72918794  66508.70659414  65057.40954287  63636.66741485\n",
      "  62245.62498651  60883.51539606  59549.57233647  58243.25311521\n",
      "  56964.46623649  55713.17083749  54489.31649006  53292.49929241\n",
      "  52121.86695758  50976.53832741  49855.63261133  48758.42504286\n",
      "  47684.58357565  46633.83659393  45605.91248192  44600.53665178\n",
      "  43617.2887971   42655.54185782  41714.6531999   40793.98018929\n",
      "  39892.87979095  39010.75514528  38147.27324716  37302.17173689\n",
      "  36475.18825477  35666.06044109  34874.52476035  34100.24659372\n",
      "  33342.87615103  32602.08871658  31877.55957466  31168.96400958\n",
      "  30475.97730564  29798.27542134  29135.54152555  28487.44559767\n",
      "  27853.65314826  27233.82968786  26627.64072701  26034.75177625\n",
      "  25454.82834614  24887.5380835   24332.64375241  23789.94463583\n",
      "  23259.21772769  22740.24002191  22232.78851241  21736.64019312\n",
      "  21251.57205795  20777.36110084  20313.78431569  19860.61421203\n",
      "  19417.51953253  18984.1210709   18560.0502897   18144.93865147\n",
      "  17738.41761874  17340.11865406  16949.67459171  16567.64520547\n",
      "  16196.45285127  15834.32552922  15478.83993101  15130.06556192\n",
      "  14791.19421823  14460.57726991  14134.78040775  13816.43819287\n",
      "  13506.13725324  13202.43292137  12906.00021853  12616.87280521\n",
      "  12333.22249746  12054.90708858  11783.13694751  11518.28149211\n",
      "  11260.12566101  11007.50812521  10759.41442733  10516.74663773\n",
      "  10280.56140095  10050.07600338   9824.08318865   9602.49735789\n",
      "   9385.74809005   9174.01578715   8967.24818671   8765.33114105\n",
      "   8568.01981688   8375.06069661   8186.33689756   8001.82394172\n",
      "   7821.47413831   7645.14094058   7472.65356139   7303.89675632\n",
      "   7138.88629633   6977.65672995   6820.21038546   6666.45988225\n",
      "   6516.30238687   6369.63819674   6226.38547415   6086.46870567\n",
      "   5949.8126065    5816.34927483   5686.01947047   5558.76441827\n",
      "   5434.52348454   5313.18655508   5194.5919272    5078.593204\n",
      "   4965.06039509   4853.81239516   4744.58217947   4637.23038755\n",
      "   4532.08216164   4429.51846281   4329.45882336   4231.5451098\n",
      "   4135.5549639    4041.58728233   3949.77783675   3860.11776465\n",
      "   3772.47401598   3686.72307873   3602.86482855   3520.96498607\n",
      "   3441.07287069   3363.08292139   3286.80687724   3212.06238017\n",
      "   3138.81363617   3067.16759858   2997.237134     2929.08968073\n",
      "   2862.63096529   2797.73074729   2734.25914314   2672.12650341\n",
      "   2611.31973869   2551.83433525   2493.66575619   2436.80575306\n",
      "   2381.24218048   2326.96347822   2273.95808605   2222.21272752\n",
      "   2171.68978506   2122.33435592   2074.09124382   2026.90525246\n",
      "   1980.72233405   1935.52666866   1891.34865307   1848.22144774\n",
      "   1806.17821314   1765.25210972   1725.46853815   1686.74044429\n",
      "   1648.89611354   1611.76176591   1575.16362143]\n"
     ]
    }
   ],
   "source": [
    "from WDPhotTools.atmosphere_model_reader import AtmosphereModelReader\n",
    "\n",
    "teff=[]\n",
    "atm = AtmosphereModelReader()\n",
    "interpolator = atm.interp_am(dependent=\"Teff\", independent=[\"logg\", \"Mbol\"])\n",
    "for i in range(len(mag)):\n",
    "    teff= np.append(teff,interpolator(8.0, mag[i]))\n",
    "    \n",
    "print(teff)\n",
    "#print(interpolator(8.0, mag[i]))"
   ]
  },
  {
   "cell_type": "markdown",
   "id": "d3927316",
   "metadata": {},
   "source": [
    "# Random selection of the Teff"
   ]
  },
  {
   "cell_type": "code",
   "execution_count": 6,
   "id": "8727ebb3",
   "metadata": {},
   "outputs": [
    {
     "name": "stdout",
     "output_type": "stream",
     "text": [
      "100000\n"
     ]
    }
   ],
   "source": [
    "import random\n",
    "from random import choices\n",
    "import numpy as np\n",
    "import matplotlib.pyplot as plt\n",
    "\n",
    "ws= choices(np.linspace(136596.34069258, 1575.16362143,199), constant_density, k=10**5 )\n",
    "print(len(ws))\n",
    "#len(ws)\n",
    "\n",
    "#plt.plot(np.linspace(0.1,19.9,10**5), ws)\n",
    "\n",
    "#type(ws)\n"
   ]
  },
  {
   "cell_type": "code",
   "execution_count": 38,
   "id": "3a0fa65e",
   "metadata": {},
   "outputs": [
    {
     "name": "stdout",
     "output_type": "stream",
     "text": [
      "14.331988999999998 100000\n"
     ]
    },
    {
     "ename": "AttributeError",
     "evalue": "'list' object has no attribute 'write'",
     "output_type": "error",
     "traceback": [
      "\u001b[0;31m---------------------------------------------------------------------------\u001b[0m",
      "\u001b[0;31mAttributeError\u001b[0m                            Traceback (most recent call last)",
      "Input \u001b[0;32mIn [38]\u001b[0m, in \u001b[0;36m<cell line: 5>\u001b[0;34m()\u001b[0m\n\u001b[1;32m      1\u001b[0m \u001b[38;5;28mprint\u001b[39m(np\u001b[38;5;241m.\u001b[39mmean(ws), \u001b[38;5;28mlen\u001b[39m(ws))\n\u001b[1;32m      3\u001b[0m \u001b[38;5;28mtype\u001b[39m(ws)\n\u001b[0;32m----> 5\u001b[0m \u001b[43mws\u001b[49m\u001b[38;5;241;43m.\u001b[39;49m\u001b[43mwrite\u001b[49m(\u001b[38;5;124m\"\u001b[39m\u001b[38;5;124m/home/sumit/Desktop/WD Project/est.fits\u001b[39m\u001b[38;5;124m\"\u001b[39m,overwrite\u001b[38;5;241m=\u001b[39mtrue)\n",
      "\u001b[0;31mAttributeError\u001b[0m: 'list' object has no attribute 'write'"
     ]
    }
   ],
   "source": [
    "print(np.min(ws), len(ws))\n",
    "\n",
    "type(ws)\n",
    "\n",
    "ws.write(\"/home/sumit/Desktop/WD Project/est.fits\")"
   ]
  },
  {
   "cell_type": "code",
   "execution_count": 41,
   "id": "fc380390",
   "metadata": {},
   "outputs": [],
   "source": [
    "#from astropy.io import fits\n",
    "#tbhdu = fits.BinTableHDU.from_columns(\n",
    "#     [fits.Column(name='luminosity', format='E', array=np.array(ws2))])\n",
    " #   \n",
    "#tbhdu.writeto('/home/sumit/Desktop/WD Project/est.fits', overwrite=True)"
   ]
  },
  {
   "cell_type": "code",
   "execution_count": null,
   "id": "f3203bfe",
   "metadata": {},
   "outputs": [],
   "source": []
  }
 ],
 "metadata": {
  "kernelspec": {
   "display_name": "Python 3 (ipykernel)",
   "language": "python",
   "name": "python3"
  },
  "language_info": {
   "codemirror_mode": {
    "name": "ipython",
    "version": 3
   },
   "file_extension": ".py",
   "mimetype": "text/x-python",
   "name": "python",
   "nbconvert_exporter": "python",
   "pygments_lexer": "ipython3",
   "version": "3.8.10"
  }
 },
 "nbformat": 4,
 "nbformat_minor": 5
}
